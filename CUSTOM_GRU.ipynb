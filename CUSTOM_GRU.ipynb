{
 "cells": [
  {
   "cell_type": "code",
   "execution_count": 10,
   "id": "f33361c4",
   "metadata": {},
   "outputs": [],
   "source": [
    "import torch\n",
    "import torch.nn as nn\n",
    "import torchvision.transforms as transforms\n",
    "import torchvision.datasets as dsets\n",
    "from torch.autograd import Variable\n",
    "from torch.nn import Parameter\n",
    "from torch import Tensor\n",
    "import torch.nn.functional as F\n",
    "\n",
    "import math\n",
    "import matplotlib.pyplot as plt\n",
    "\n",
    "cuda = True if torch.cuda.is_available() else False\n",
    "    \n",
    "Tensor = torch.cuda.FloatTensor if cuda else torch.FloatTensor    \n",
    "\n",
    "torch.manual_seed(125)\n",
    "if torch.cuda.is_available():\n",
    "    torch.cuda.manual_seed_all(125)"
   ]
  },
  {
   "cell_type": "code",
   "execution_count": 11,
   "id": "36469f60",
   "metadata": {},
   "outputs": [],
   "source": [
    "class GRUCell(nn.Module):\n",
    "    def __init__(self, input_size, hidden_size, bias=True):\n",
    "        super(GRUCell, self).__init__()\n",
    "        self.input_size = input_size\n",
    "        self.hidden_size = hidden_size\n",
    "        self.bias = bias\n",
    "        self.x2h = nn.Linear(input_size, 3 * hidden_size, bias=bias)\n",
    "        self.h2h = nn.Linear(hidden_size, 3 * hidden_size, bias=bias)\n",
    "        self.reset_parameters()\n",
    "\n",
    "\n",
    "    def reset_parameters(self):\n",
    "        std = 1.0 / math.sqrt(self.hidden_size)\n",
    "        for w in self.parameters():\n",
    "            w.data.uniform_(-std, std)\n",
    "    \n",
    "    def forward(self, x, hidden):\n",
    "        \n",
    "        x = x.view(-1, x.size(1))\n",
    "        \n",
    "        gate_x = self.x2h(x) \n",
    "        gate_h = self.h2h(hidden)\n",
    "        \n",
    "        gate_x = gate_x.squeeze()\n",
    "        gate_h = gate_h.squeeze()\n",
    "        \n",
    "        i_r, i_i, i_n = gate_x.chunk(3, 1)\n",
    "        h_r, h_i, h_n = gate_h.chunk(3, 1)\n",
    "        \n",
    "        \n",
    "        resetgate = torch.sigmoid(i_r + h_r)\n",
    "        inputgate = torch.sigmoid(i_i + h_i)\n",
    "        newgate = torch.tanh(i_n + (resetgate * h_n))\n",
    "        \n",
    "        hy = newgate + inputgate * (hidden - newgate)\n",
    "        \n",
    "        \n",
    "        return hy"
   ]
  },
  {
   "cell_type": "code",
   "execution_count": 12,
   "id": "79d605f4",
   "metadata": {},
   "outputs": [],
   "source": [
    "class GRUModel(nn.Module):\n",
    "    def __init__(self, input_dim, hidden_dim, layer_dim, output_dim, bias=True):\n",
    "        super(GRUModel, self).__init__()\n",
    "        self.hidden_dim = hidden_dim\n",
    "        self.layer_dim = layer_dim\n",
    "        self.rnn = []\n",
    "        for i in range(layer_dim):\n",
    "            if i == 0:\n",
    "                self.rnn.append(GRUCell(input_dim, hidden_dim))\n",
    "                continue\n",
    "            self.rnn.append(GRUCell(hidden_dim, hidden_dim))\n",
    "        \n",
    "        self.rnn = nn.ModuleList(self.rnn)\n",
    "        self.fc = nn.Linear(hidden_dim, output_dim)\n",
    "        \n",
    "        \n",
    "    def forward(self, x):\n",
    "        if torch.cuda.is_available():\n",
    "            h0 = torch.zeros(self.layer_dim, x.size(0), self.hidden_dim).to(x.device)\n",
    "        else:\n",
    "            h0 = torch.zeros(self.layer_dim, x.size(0), self.hidden_dim)\n",
    "        for idx, layer in enumerate(self.rnn):\n",
    "            hn = h0[idx,:,:]\n",
    "            outs = []\n",
    "\n",
    "            for seq in range(x.size(1)):\n",
    "                hn = layer(x[:,seq,:], hn) \n",
    "                outs.append(hn)\n",
    "\n",
    "            x = torch.stack(outs, 1)\n",
    "        \n",
    "        out = self.fc(x[:, -1, :])\n",
    "        return out\n",
    " "
   ]
  },
  {
   "cell_type": "code",
   "execution_count": 13,
   "id": "ee53e545",
   "metadata": {},
   "outputs": [],
   "source": [
    "train_dataset = dsets.MNIST(root='./data', \n",
    "                            train=True, \n",
    "                            transform=transforms.ToTensor(),\n",
    "                            download=True)\n",
    " \n",
    "test_dataset = dsets.MNIST(root='./data', \n",
    "                           train=False, \n",
    "                           transform=transforms.ToTensor())\n",
    " \n",
    "batch_size = 100\n",
    "training_epochs = 2\n"
   ]
  },
  {
   "cell_type": "code",
   "execution_count": 14,
   "id": "980a6953",
   "metadata": {},
   "outputs": [],
   "source": [
    "train_loader = torch.utils.data.DataLoader(dataset=train_dataset, \n",
    "                                           batch_size=batch_size, \n",
    "                                           shuffle=True)\n",
    " \n",
    "test_loader = torch.utils.data.DataLoader(dataset=test_dataset, \n",
    "                                          batch_size=batch_size, \n",
    "                                          shuffle=False)"
   ]
  },
  {
   "cell_type": "code",
   "execution_count": 28,
   "id": "4dd1e077",
   "metadata": {},
   "outputs": [],
   "source": [
    "input_dim = 28\n",
    "hidden_dim = 128\n",
    "layer_dim = 2\n",
    "output_dim = 10\n",
    "seq_dim = 28 \n",
    " \n",
    "device = 'cuda' if torch.cuda.is_available() else 'cpu'\n",
    "model = GRUModel(input_dim, hidden_dim, layer_dim, output_dim).to(device)\n",
    "criterion = nn.CrossEntropyLoss()\n",
    "learning_rate = 0.1\n",
    "optimizer = torch.optim.SGD(model.parameters(), lr=learning_rate)  \n"
   ]
  },
  {
   "cell_type": "code",
   "execution_count": 29,
   "id": "f9820a7a",
   "metadata": {},
   "outputs": [],
   "source": [
    "training_epochs = 2"
   ]
  },
  {
   "cell_type": "code",
   "execution_count": 30,
   "id": "013bbe00",
   "metadata": {
    "scrolled": true
   },
   "outputs": [
    {
     "name": "stdout",
     "output_type": "stream",
     "text": [
      "Iteration: 0. Loss: 2.3005638122558594. Accuracy: 11.0\n",
      "Iteration: 100. Loss: 2.289593458175659. Accuracy: 16.179996490478516\n",
      "Iteration: 200. Loss: 2.2015295028686523. Accuracy: 23.449996948242188\n",
      "Iteration: 300. Loss: 1.755460500717163. Accuracy: 40.06999588012695\n",
      "Iteration: 400. Loss: 1.0664833784103394. Accuracy: 60.56999969482422\n",
      "Iteration: 500. Loss: 0.840258002281189. Accuracy: 68.7199935913086\n",
      "Iteration: 0. Loss: 0.7814785838127136. Accuracy: 73.1500015258789\n",
      "Iteration: 100. Loss: 0.7655765414237976. Accuracy: 76.37997436523438\n",
      "Iteration: 200. Loss: 0.5864498019218445. Accuracy: 80.11998748779297\n",
      "Iteration: 300. Loss: 0.4280107021331787. Accuracy: 84.55001831054688\n",
      "Iteration: 400. Loss: 0.3965272605419159. Accuracy: 85.2300033569336\n",
      "Iteration: 500. Loss: 0.40620216727256775. Accuracy: 88.50003051757812\n"
     ]
    }
   ],
   "source": [
    "loss_list1 = []\n",
    "for epoch in range(training_epochs):\n",
    "    for idx, (images, labels) in enumerate(train_loader):\n",
    "        images = images.view(-1, seq_dim, input_dim).to(device)\n",
    "        labels = labels.to(device)        \n",
    "\n",
    "        optimizer.zero_grad()\n",
    "        outputs = model(images)\n",
    "\n",
    "        loss = criterion(outputs, labels)\n",
    "        loss.backward()\n",
    "\n",
    "        # Updating parameters\n",
    "        optimizer.step()\n",
    "        \n",
    "        loss_list1.append(loss.item())\n",
    "         \n",
    "        if idx % 100 == 0:\n",
    "            correct = 0\n",
    "            total = len(test_loader)\n",
    "            for images, labels in test_loader:\n",
    "                images = images.view(-1, seq_dim, input_dim).to(device)\n",
    "                labels = labels.to(device)     \n",
    "                outputs = model(images)\n",
    "                predicted = torch.argmax(outputs.data, 1)\n",
    "                correct += (predicted == labels).float().mean()\n",
    "             \n",
    "            accuracy = 100 * correct / total\n",
    "             \n",
    "            # Print Loss\n",
    "            print(f'Iteration: {idx}. Loss: {loss.item()}. Accuracy: {accuracy}')"
   ]
  },
  {
   "cell_type": "code",
   "execution_count": 31,
   "id": "4adc2558",
   "metadata": {},
   "outputs": [],
   "source": [
    "class Test(nn.Module):\n",
    "    def __init__(self, input_dim, hidden_dim, layer_dim, output_dim):\n",
    "        super(Test, self).__init__()\n",
    "        self.rnn = nn.GRU(input_dim, hidden_dim, layer_dim, batch_first=True)\n",
    "        self.linear = nn.Linear(hidden_dim, output_dim)\n",
    "    \n",
    "    def forward(self, x):\n",
    "        x, _ = self.rnn(x)\n",
    "        out = self.linear(x[:,-1,:])\n",
    "        return out"
   ]
  },
  {
   "cell_type": "code",
   "execution_count": 32,
   "id": "c5653e79",
   "metadata": {},
   "outputs": [],
   "source": [
    "input_dim = 28\n",
    "hidden_dim = 128\n",
    "layer_dim = 2\n",
    "output_dim = 10\n",
    " \n",
    "device = 'cuda' if torch.cuda.is_available() else 'cpu'\n",
    "model = GRUModel(input_dim, hidden_dim, layer_dim, output_dim).to(device)\n",
    "criterion = nn.CrossEntropyLoss()\n",
    "learning_rate = 0.1\n",
    "optimizer = torch.optim.SGD(model.parameters(), lr=learning_rate)  \n"
   ]
  },
  {
   "cell_type": "code",
   "execution_count": 33,
   "id": "4a0e2b6d",
   "metadata": {
    "scrolled": true
   },
   "outputs": [
    {
     "name": "stdout",
     "output_type": "stream",
     "text": [
      "Iteration: 0. Loss: 2.3090415000915527. Accuracy: 9.620002746582031\n",
      "Iteration: 100. Loss: 2.2880775928497314. Accuracy: 16.39999771118164\n",
      "Iteration: 200. Loss: 2.243562698364258. Accuracy: 28.100004196166992\n",
      "Iteration: 300. Loss: 1.8788646459579468. Accuracy: 38.589996337890625\n",
      "Iteration: 400. Loss: 1.2781422138214111. Accuracy: 58.1099967956543\n",
      "Iteration: 500. Loss: 1.0598578453063965. Accuracy: 67.43000030517578\n",
      "Iteration: 0. Loss: 0.6621491312980652. Accuracy: 73.4800033569336\n",
      "Iteration: 100. Loss: 0.6633756756782532. Accuracy: 79.22000122070312\n",
      "Iteration: 200. Loss: 0.576466977596283. Accuracy: 81.67001342773438\n",
      "Iteration: 300. Loss: 0.4599093198776245. Accuracy: 81.19001770019531\n",
      "Iteration: 400. Loss: 0.33247050642967224. Accuracy: 86.72997283935547\n",
      "Iteration: 500. Loss: 0.3290899991989136. Accuracy: 87.91996765136719\n"
     ]
    }
   ],
   "source": [
    "loss_list2 = []\n",
    "for epoch in range(training_epochs):\n",
    "    for idx, (images, labels) in enumerate(train_loader):\n",
    "        images = images.view(-1, seq_dim, input_dim).to(device)\n",
    "        labels = labels.to(device)        \n",
    "\n",
    "        optimizer.zero_grad()\n",
    "        outputs = model(images)\n",
    "\n",
    "        loss = criterion(outputs, labels)\n",
    "        loss.backward()\n",
    "\n",
    "        # Updating parameters\n",
    "        optimizer.step()\n",
    "        \n",
    "        loss_list2.append(loss.item())\n",
    "         \n",
    "        if idx % 100 == 0:\n",
    "            correct = 0\n",
    "            total = len(test_loader)\n",
    "            for images, labels in test_loader:\n",
    "                images = images.view(-1, seq_dim, input_dim).to(device)\n",
    "                labels = labels.to(device)     \n",
    "                outputs = model(images)\n",
    "                predicted = torch.argmax(outputs.data, 1)\n",
    "                correct += (predicted == labels).float().mean()\n",
    "             \n",
    "            accuracy = 100 * correct / total\n",
    "             \n",
    "            # Print Loss\n",
    "            print(f'Iteration: {idx}. Loss: {loss.item()}. Accuracy: {accuracy}')"
   ]
  },
  {
   "cell_type": "code",
   "execution_count": 34,
   "id": "249d1691",
   "metadata": {},
   "outputs": [
    {
     "data": {
      "image/png": "[encoded data removed]",
      "text/plain": [
       "<Figure size 432x288 with 1 Axes>"
      ]
     },
     "metadata": {
      "needs_background": "light"
     },
     "output_type": "display_data"
    }
   ],
   "source": [
    "plt.plot(loss_list1, label='custom')\n",
    "plt.plot(loss_list2, label='pytorch')\n",
    "\n",
    "plt.legend()\n",
    "plt.show()"
   ]
  },
  {
   "cell_type": "code",
   "execution_count": null,
   "id": "60e69fd3",
   "metadata": {},
   "outputs": [],
   "source": []
  },
  {
   "cell_type": "code",
   "execution_count": null,
   "id": "78c91539",
   "metadata": {},
   "outputs": [],
   "source": []
  }
 ],
 "metadata": {
  "hide_input": false,
  "kernelspec": {
   "display_name": "deep",
   "language": "python",
   "name": "deep"
  },
  "language_info": {
   "codemirror_mode": {
    "name": "ipython",
    "version": 3
   },
   "file_extension": ".py",
   "mimetype": "text/x-python",
   "name": "python",
   "nbconvert_exporter": "python",
   "pygments_lexer": "ipython3",
   "version": "3.9.7"
  },
  "varInspector": {
   "cols": {
    "lenName": 16,
    "lenType": 16,
    "lenVar": 40
   },
   "kernels_config": {
    "python": {
     "delete_cmd_postfix": "",
     "delete_cmd_prefix": "del ",
     "library": "var_list.py",
     "varRefreshCmd": "print(var_dic_list())"
    },
    "r": {
     "delete_cmd_postfix": ") ",
     "delete_cmd_prefix": "rm(",
     "library": "var_list.r",
     "varRefreshCmd": "cat(var_dic_list()) "
    }
   },
   "types_to_exclude": [
    "module",
    "function",
    "builtin_function_or_method",
    "instance",
    "_Feature"
   ],
   "window_display": false
  }
 },
 "nbformat": 4,
 "nbformat_minor": 5
}
